{
 "cells": [
  {
   "cell_type": "markdown",
   "id": "93f5a478",
   "metadata": {},
   "source": [
    "# Yelp Data Analytics"
   ]
  },
  {
   "cell_type": "markdown",
   "id": "167dfd46",
   "metadata": {},
   "source": [
    "What is the best city to visit according to yelp? for this project I will be trying to answer this simple question using Yelps academic data set as well as my data skills."
   ]
  },
  {
   "cell_type": "code",
   "execution_count": 1,
   "id": "b27e8580",
   "metadata": {},
   "outputs": [],
   "source": [
    "import pandas as pd\n",
    "import numpy as np\n",
    "from scipy.stats import pearsonr, chi2_contingency\n",
    "import matplotlib.pyplot as plt\n",
    "import seaborn as sns\n",
    "np.set_printoptions(suppress=True, precision = 2)\n"
   ]
  },
  {
   "cell_type": "markdown",
   "id": "24d3f747",
   "metadata": {},
   "source": [
    "## Data Wrangling"
   ]
  },
  {
   "cell_type": "code",
   "execution_count": 14,
   "id": "b2ab8884",
   "metadata": {},
   "outputs": [],
   "source": [
    "# Read the JSON file into a DataFrame\n",
    "yelp_data = pd.read_json(\"yelp_academic_dataset_business.json\", lines=True)"
   ]
  },
  {
   "cell_type": "code",
   "execution_count": 15,
   "id": "0d069de2",
   "metadata": {},
   "outputs": [
    {
     "data": {
      "text/html": [
       "<div>\n",
       "<style scoped>\n",
       "    .dataframe tbody tr th:only-of-type {\n",
       "        vertical-align: middle;\n",
       "    }\n",
       "\n",
       "    .dataframe tbody tr th {\n",
       "        vertical-align: top;\n",
       "    }\n",
       "\n",
       "    .dataframe thead th {\n",
       "        text-align: right;\n",
       "    }\n",
       "</style>\n",
       "<table border=\"1\" class=\"dataframe\">\n",
       "  <thead>\n",
       "    <tr style=\"text-align: right;\">\n",
       "      <th></th>\n",
       "      <th>business_id</th>\n",
       "      <th>name</th>\n",
       "      <th>address</th>\n",
       "      <th>city</th>\n",
       "      <th>state</th>\n",
       "      <th>postal_code</th>\n",
       "      <th>latitude</th>\n",
       "      <th>longitude</th>\n",
       "      <th>stars</th>\n",
       "      <th>review_count</th>\n",
       "      <th>is_open</th>\n",
       "      <th>attributes</th>\n",
       "      <th>categories</th>\n",
       "      <th>hours</th>\n",
       "    </tr>\n",
       "  </thead>\n",
       "  <tbody>\n",
       "    <tr>\n",
       "      <th>0</th>\n",
       "      <td>Pns2l4eNsfO8kk83dixA6A</td>\n",
       "      <td>Abby Rappoport, LAC, CMQ</td>\n",
       "      <td>1616 Chapala St, Ste 2</td>\n",
       "      <td>Santa Barbara</td>\n",
       "      <td>CA</td>\n",
       "      <td>93101</td>\n",
       "      <td>34.426679</td>\n",
       "      <td>-119.711197</td>\n",
       "      <td>5.0</td>\n",
       "      <td>7</td>\n",
       "      <td>0</td>\n",
       "      <td>{'ByAppointmentOnly': 'True'}</td>\n",
       "      <td>Doctors, Traditional Chinese Medicine, Naturop...</td>\n",
       "      <td>None</td>\n",
       "    </tr>\n",
       "    <tr>\n",
       "      <th>1</th>\n",
       "      <td>mpf3x-BjTdTEA3yCZrAYPw</td>\n",
       "      <td>The UPS Store</td>\n",
       "      <td>87 Grasso Plaza Shopping Center</td>\n",
       "      <td>Affton</td>\n",
       "      <td>MO</td>\n",
       "      <td>63123</td>\n",
       "      <td>38.551126</td>\n",
       "      <td>-90.335695</td>\n",
       "      <td>3.0</td>\n",
       "      <td>15</td>\n",
       "      <td>1</td>\n",
       "      <td>{'BusinessAcceptsCreditCards': 'True'}</td>\n",
       "      <td>Shipping Centers, Local Services, Notaries, Ma...</td>\n",
       "      <td>{'Monday': '0:0-0:0', 'Tuesday': '8:0-18:30', ...</td>\n",
       "    </tr>\n",
       "    <tr>\n",
       "      <th>2</th>\n",
       "      <td>tUFrWirKiKi_TAnsVWINQQ</td>\n",
       "      <td>Target</td>\n",
       "      <td>5255 E Broadway Blvd</td>\n",
       "      <td>Tucson</td>\n",
       "      <td>AZ</td>\n",
       "      <td>85711</td>\n",
       "      <td>32.223236</td>\n",
       "      <td>-110.880452</td>\n",
       "      <td>3.5</td>\n",
       "      <td>22</td>\n",
       "      <td>0</td>\n",
       "      <td>{'BikeParking': 'True', 'BusinessAcceptsCredit...</td>\n",
       "      <td>Department Stores, Shopping, Fashion, Home &amp; G...</td>\n",
       "      <td>{'Monday': '8:0-22:0', 'Tuesday': '8:0-22:0', ...</td>\n",
       "    </tr>\n",
       "    <tr>\n",
       "      <th>3</th>\n",
       "      <td>MTSW4McQd7CbVtyjqoe9mw</td>\n",
       "      <td>St Honore Pastries</td>\n",
       "      <td>935 Race St</td>\n",
       "      <td>Philadelphia</td>\n",
       "      <td>PA</td>\n",
       "      <td>19107</td>\n",
       "      <td>39.955505</td>\n",
       "      <td>-75.155564</td>\n",
       "      <td>4.0</td>\n",
       "      <td>80</td>\n",
       "      <td>1</td>\n",
       "      <td>{'RestaurantsDelivery': 'False', 'OutdoorSeati...</td>\n",
       "      <td>Restaurants, Food, Bubble Tea, Coffee &amp; Tea, B...</td>\n",
       "      <td>{'Monday': '7:0-20:0', 'Tuesday': '7:0-20:0', ...</td>\n",
       "    </tr>\n",
       "    <tr>\n",
       "      <th>4</th>\n",
       "      <td>mWMc6_wTdE0EUBKIGXDVfA</td>\n",
       "      <td>Perkiomen Valley Brewery</td>\n",
       "      <td>101 Walnut St</td>\n",
       "      <td>Green Lane</td>\n",
       "      <td>PA</td>\n",
       "      <td>18054</td>\n",
       "      <td>40.338183</td>\n",
       "      <td>-75.471659</td>\n",
       "      <td>4.5</td>\n",
       "      <td>13</td>\n",
       "      <td>1</td>\n",
       "      <td>{'BusinessAcceptsCreditCards': 'True', 'Wheelc...</td>\n",
       "      <td>Brewpubs, Breweries, Food</td>\n",
       "      <td>{'Wednesday': '14:0-22:0', 'Thursday': '16:0-2...</td>\n",
       "    </tr>\n",
       "  </tbody>\n",
       "</table>\n",
       "</div>"
      ],
      "text/plain": [
       "              business_id                      name  \\\n",
       "0  Pns2l4eNsfO8kk83dixA6A  Abby Rappoport, LAC, CMQ   \n",
       "1  mpf3x-BjTdTEA3yCZrAYPw             The UPS Store   \n",
       "2  tUFrWirKiKi_TAnsVWINQQ                    Target   \n",
       "3  MTSW4McQd7CbVtyjqoe9mw        St Honore Pastries   \n",
       "4  mWMc6_wTdE0EUBKIGXDVfA  Perkiomen Valley Brewery   \n",
       "\n",
       "                           address           city state postal_code  \\\n",
       "0           1616 Chapala St, Ste 2  Santa Barbara    CA       93101   \n",
       "1  87 Grasso Plaza Shopping Center         Affton    MO       63123   \n",
       "2             5255 E Broadway Blvd         Tucson    AZ       85711   \n",
       "3                      935 Race St   Philadelphia    PA       19107   \n",
       "4                    101 Walnut St     Green Lane    PA       18054   \n",
       "\n",
       "    latitude   longitude  stars  review_count  is_open  \\\n",
       "0  34.426679 -119.711197    5.0             7        0   \n",
       "1  38.551126  -90.335695    3.0            15        1   \n",
       "2  32.223236 -110.880452    3.5            22        0   \n",
       "3  39.955505  -75.155564    4.0            80        1   \n",
       "4  40.338183  -75.471659    4.5            13        1   \n",
       "\n",
       "                                          attributes  \\\n",
       "0                      {'ByAppointmentOnly': 'True'}   \n",
       "1             {'BusinessAcceptsCreditCards': 'True'}   \n",
       "2  {'BikeParking': 'True', 'BusinessAcceptsCredit...   \n",
       "3  {'RestaurantsDelivery': 'False', 'OutdoorSeati...   \n",
       "4  {'BusinessAcceptsCreditCards': 'True', 'Wheelc...   \n",
       "\n",
       "                                          categories  \\\n",
       "0  Doctors, Traditional Chinese Medicine, Naturop...   \n",
       "1  Shipping Centers, Local Services, Notaries, Ma...   \n",
       "2  Department Stores, Shopping, Fashion, Home & G...   \n",
       "3  Restaurants, Food, Bubble Tea, Coffee & Tea, B...   \n",
       "4                          Brewpubs, Breweries, Food   \n",
       "\n",
       "                                               hours  \n",
       "0                                               None  \n",
       "1  {'Monday': '0:0-0:0', 'Tuesday': '8:0-18:30', ...  \n",
       "2  {'Monday': '8:0-22:0', 'Tuesday': '8:0-22:0', ...  \n",
       "3  {'Monday': '7:0-20:0', 'Tuesday': '7:0-20:0', ...  \n",
       "4  {'Wednesday': '14:0-22:0', 'Thursday': '16:0-2...  "
      ]
     },
     "execution_count": 15,
     "metadata": {},
     "output_type": "execute_result"
    }
   ],
   "source": [
    "#Print the first five rows of the data frame we just loaded, I like to do this for a preview of the data\n",
    "yelp_data.head()"
   ]
  },
  {
   "cell_type": "code",
   "execution_count": 16,
   "id": "8a8a6297",
   "metadata": {},
   "outputs": [
    {
     "name": "stdout",
     "output_type": "stream",
     "text": [
      "business_id      object\n",
      "name             object\n",
      "address          object\n",
      "city             object\n",
      "state            object\n",
      "postal_code      object\n",
      "latitude        float64\n",
      "longitude       float64\n",
      "stars           float64\n",
      "review_count      int64\n",
      "is_open           int64\n",
      "attributes       object\n",
      "categories       object\n",
      "hours            object\n",
      "dtype: object\n"
     ]
    },
    {
     "data": {
      "text/plain": [
       "(150346, 14)"
      ]
     },
     "execution_count": 16,
     "metadata": {},
     "output_type": "execute_result"
    }
   ],
   "source": [
    "#This helps me understand what column data i will need to change for exploratory analysis.\n",
    "print(yelp_data.dtypes)\n",
    "#This command shows us that we have 150,345 business entries in our dataframe````````\n",
    "yelp_data.shape"
   ]
  },
  {
   "cell_type": "markdown",
   "id": "989d970f",
   "metadata": {},
   "source": [
    "## Data Cleaning"
   ]
  },
  {
   "cell_type": "code",
   "execution_count": 17,
   "id": "77b08513",
   "metadata": {},
   "outputs": [
    {
     "name": "stdout",
     "output_type": "stream",
     "text": [
      "['CA' 'MO' 'AZ' 'PA' 'TN' 'FL' 'IN' 'LA' 'AB' 'NV' 'ID' 'DE' 'IL' 'NJ'\n",
      " 'NC' 'CO' 'WA' 'HI' 'UT' 'TX' 'MT' 'MI' 'SD' 'XMS' 'MA' 'VI' 'VT']\n",
      "['Santa Barbara' 'Affton' 'Tucson' ... 'Wales' 'UPPER MORELAND'\n",
      " 'Apollo beach']\n"
     ]
    }
   ],
   "source": [
    "#upon examining the column names I can see there will need to be some data rexamined in the 'AB' and 'XMS' categories\n",
    "print(yelp_data['state'].unique())\n",
    "#The 'city' column also seems to have some interesting values that need some more analysis\n",
    "print(yelp_data['city'].unique())"
   ]
  },
  {
   "cell_type": "code",
   "execution_count": 18,
   "id": "7257c9a7",
   "metadata": {},
   "outputs": [
    {
     "name": "stdout",
     "output_type": "stream",
     "text": [
      "               business_id                                  name  \\\n",
      "20  WKMJwqnfZKsAae75RMP6jA        Roast Coffeehouse and Wine Bar   \n",
      "46  JX4tUpd09YFchLBuI43lGw       Naked Cyber Cafe & Espresso Bar   \n",
      "52  5BmQX4UVJY19mMtafMg7JA  Breadland Organic Whole Grain Bakery   \n",
      "53  cVBxfMC4lp3DnocjYA3FHQ                     Paws The Cat Cafe   \n",
      "77  mFTaYsRDyeFaY2NDLfSaAA                      River City Games   \n",
      "\n",
      "                       address      city state postal_code   latitude  \\\n",
      "20         10359 104 Street NW  Edmonton    AB     T5J 1B9  53.546045   \n",
      "46        10303  108 Street NW  Edmonton    AB     T5J 1L7  53.544682   \n",
      "52  11642 104 Avenue, Unit 642  Edmonton    AB     T5K 2T7  53.547205   \n",
      "53            10588 109 Street  Edmonton    AB     T5H 3B2  53.549633   \n",
      "77           5203 99 Street NW  Edmonton    AB     T6E 5B7  53.489312   \n",
      "\n",
      "     longitude  stars  review_count  is_open  \\\n",
      "20 -113.499169    4.0            40        0   \n",
      "46 -113.506589    4.0            12        1   \n",
      "52 -113.522448    4.0            23        1   \n",
      "53 -113.508780    5.0            20        0   \n",
      "77 -113.485567    4.5             5        1   \n",
      "\n",
      "                                           attributes  \\\n",
      "20  {'OutdoorSeating': 'False', 'Caters': 'True', ...   \n",
      "46  {'OutdoorSeating': 'False', 'BusinessParking':...   \n",
      "52  {'RestaurantsPriceRange2': '2', 'BikeParking':...   \n",
      "53  {'RestaurantsAttire': ''casual'', 'Restaurants...   \n",
      "77  {'BusinessParking': '{'garage': False, 'street...   \n",
      "\n",
      "                                           categories  \\\n",
      "20  Coffee & Tea, Food, Cafes, Bars, Wine Bars, Re...   \n",
      "46  Arts & Entertainment, Music Venues, Internet S...   \n",
      "52     Specialty Food, Bakeries, Food, Health Markets   \n",
      "53  Coffee & Tea, Cafes, Pets, Restaurants, Pet Ad...   \n",
      "77           Tabletop Games, Shopping, Sporting Goods   \n",
      "\n",
      "                                                hours  \n",
      "20  {'Monday': '8:0-18:0', 'Tuesday': '8:0-18:0', ...  \n",
      "46  {'Monday': '11:0-1:0', 'Tuesday': '11:0-1:0', ...  \n",
      "52  {'Monday': '9:0-18:0', 'Tuesday': '9:0-18:0', ...  \n",
      "53  {'Monday': '0:0-0:0', 'Tuesday': '10:0-21:0', ...  \n",
      "77  {'Monday': '10:0-18:0', 'Tuesday': '10:0-18:0'...  \n",
      "['CA' 'MO' 'AZ' 'PA' 'TN' 'FL' 'IN' 'LA' 'AL' 'NV' 'ID' 'DE' 'IL' 'NJ'\n",
      " 'NC' 'CO' 'WA' 'HI' 'UT' 'TX' 'MT' 'MI' 'SD' 'XMS' 'MA' 'VI' 'VT']\n"
     ]
    }
   ],
   "source": [
    "# The 'AB' category is an easy fix, oddly it seems the wrong state code for alabama was used, it should be 'AL'\n",
    "odd_state_value = yelp_data[yelp_data.state == 'AB']\n",
    "print(odd_state_value.head())\n",
    "\n",
    "#We should update every row in our original data frame that contains 'AB' in the 'state' column to 'AL'\n",
    "yelp_data.loc[yelp_data['state'] == 'AB', 'state'] = 'AL'\n",
    "\n",
    "#Now lets just make sure my code worked correctly\n",
    "print(yelp_data['state'].unique())"
   ]
  },
  {
   "cell_type": "code",
   "execution_count": 19,
   "id": "2cf0cf69",
   "metadata": {},
   "outputs": [
    {
     "name": "stdout",
     "output_type": "stream",
     "text": [
      "                  business_id                    name             address  \\\n",
      "98685  IvQs2hhXKZ4NgZhVZ5jjjQ  Pumpernickles Catering  95a Mount Pleasant   \n",
      "\n",
      "            city state postal_code   latitude  longitude  stars  review_count  \\\n",
      "98685  Liverpool   XMS      L3 5TB  38.673049 -90.423156    4.0             5   \n",
      "\n",
      "       is_open                                         attributes  \\\n",
      "98685        1  {'RestaurantsPriceRange2': '2', 'BusinessParki...   \n",
      "\n",
      "                                              categories hours  \n",
      "98685  Caterers, Breakfast & Brunch, Convenience Stor...  None  \n",
      "['CA' 'MO' 'AZ' 'PA' 'TN' 'FL' 'IN' 'LA' 'AL' 'NV' 'ID' 'DE' 'IL' 'NJ'\n",
      " 'NC' 'CO' 'WA' 'HI' 'UT' 'TX' 'MT' 'MI' 'SD' 'MA' 'VI' 'VT']\n"
     ]
    }
   ],
   "source": [
    "#Now lets go through the same process for the \"XMS\" category of the 'state' column\n",
    "odd_state_value = yelp_data[yelp_data.state == 'XMS']\n",
    "print(odd_state_value.head())\n",
    "\n",
    "#There is only one entry for the 'XMS'category and it seems to be for Pumpernickles Catering in Liverpool, England. This information isn't relevant to our study so I'm electing to remove it from our original dataframe\n",
    "yelp_data = yelp_data[yelp_data['state'] != 'XMS']\n",
    "\n",
    "#Lets check like we did for 'AB'\n",
    "print(yelp_data['state'].unique())\n"
   ]
  },
  {
   "cell_type": "code",
   "execution_count": 20,
   "id": "8cb37002",
   "metadata": {},
   "outputs": [
    {
     "name": "stdout",
     "output_type": "stream",
     "text": [
      "                   business_id      name        address   city state  \\\n",
      "149841  i4Q1FYsQrJGIdINwvzVKkA  Old Navy  33 Airport Sq  Wales    PA   \n",
      "\n",
      "       postal_code   latitude  longitude  stars  review_count  is_open  \\\n",
      "149841       19454  40.237927 -75.239896    3.0             8        1   \n",
      "\n",
      "                                               attributes  \\\n",
      "149841  {'RestaurantsPriceRange2': '2', 'BusinessAccep...   \n",
      "\n",
      "                                               categories  \\\n",
      "149841  Women's Clothing, Shopping, Men's Clothing, Fa...   \n",
      "\n",
      "                                                    hours  \n",
      "149841  {'Monday': '0:0-0:0', 'Tuesday': '10:0-21:0', ...  \n"
     ]
    }
   ],
   "source": [
    "#Lets examine the entries with 'Wales' in the 'city' column\n",
    "odd_city_value = yelp_data[yelp_data.city == 'Wales']\n",
    "print(odd_city_value.head())\n",
    "#Looking more extensively at the business entry it seems the entry is actually for a business in North Wales, Pennsylvania. Since it's an entry still relevant to our study we don't need to do anything"
   ]
  },
  {
   "cell_type": "markdown",
   "id": "5164c2e8",
   "metadata": {},
   "source": [
    "## Data Analysis"
   ]
  },
  {
   "cell_type": "code",
   "execution_count": 21,
   "id": "fd65e4bd",
   "metadata": {},
   "outputs": [],
   "source": [
    "#Now that we've cleaned these columns we can change their data type to be categorical\n",
    "yelp_data['state'] = pd.Categorical(yelp_data['state'])\n",
    "yelp_data['city'] = pd.Categorical(yelp_data['city'])\n",
    "\n",
    "#Finally we'll create a column the combines the stars and review count columns. This will make it easier to get a weighted aggregate when we group by city\n",
    "yelp_data['power_score'] = yelp_data['stars'].astype(float) * yelp_data['review_count'].astype(float)"
   ]
  },
  {
   "cell_type": "code",
   "execution_count": 22,
   "id": "bb195a0e",
   "metadata": {},
   "outputs": [
    {
     "name": "stdout",
     "output_type": "stream",
     "text": [
      "   state     stars  review_count  power_score\n",
      "18    PA  3.573019       1540790    5704822.5\n",
      "5     FL  3.610957       1119926    4222067.0\n",
      "10    LA  3.679162        743176    2882772.0\n",
      "20    TN  3.571500        598195    2253105.0\n",
      "13    MO  3.546092        483897    1809189.0\n",
      "9     IN  3.588246        472565    1795146.5\n",
      "17    NV  3.736876        409950    1531652.5\n",
      "1     AZ  3.592010        412639    1526814.5\n",
      "2     CA  3.996733        339637    1347036.5\n",
      "16    NJ  3.459114        249837     889525.5\n",
      "7     ID  3.707634        152086     572420.0\n",
      "0     AL  3.447515        105477     377001.5\n",
      "4     DE  3.354967         67370     236593.0\n",
      "8     IL  3.369697         49676     175067.0\n",
      "19    SD  4.500000            42        189.0\n",
      "6     HI  4.250000            32        134.5\n",
      "3     CO  4.000000            30        118.0\n",
      "21    TX  2.875000            33         86.0\n",
      "22    UT  4.500000            19         85.5\n",
      "25    WA  3.500000            19         73.5\n"
     ]
    },
    {
     "name": "stderr",
     "output_type": "stream",
     "text": [
      "/var/folders/xh/0wd_6y4x2_bgrmj7xkg_jvqh0000gn/T/ipykernel_3918/1646008844.py:2: FutureWarning: The default of observed=False is deprecated and will be changed to True in a future version of pandas. Pass observed=False to retain current behavior or observed=True to adopt the future default and silence this warning.\n",
      "  yelp_by_state = yelp_data.groupby('state').agg({\n"
     ]
    }
   ],
   "source": [
    "#Now that all of our data is cleaned and in the correct variable types we can begin to get a better understanding of where some of the highest rated business's are...\n",
    "yelp_by_state = yelp_data.groupby('state').agg({\n",
    "    'stars': 'mean',\n",
    "    'review_count': 'sum',\n",
    "    'power_score': 'sum'\n",
    "}).reset_index()\n",
    "\n",
    "yelp_by_state = yelp_by_state.sort_values(by='power_score', ascending=False)\n",
    "\n",
    "print(yelp_by_state.head(20))"
   ]
  },
  {
   "cell_type": "markdown",
   "id": "b148dd6a",
   "metadata": {},
   "source": [
    "With this table we can see the average star rating of the business' in each state as well as the sum of their review count and each state's total \"power score\". As you can see, the best state according to Yelp is Pennsylvania followed closely by Florida, however both have lower average stars compared to other lower ranked states, so city rankings may still be different. "
   ]
  },
  {
   "cell_type": "markdown",
   "id": "a2d0e3fe",
   "metadata": {},
   "source": [
    "Sorting by stars or review_count alone doesn't account for outliers such as business' with one five star review, or business' with a large number of bad reviews. The \"power score\" however gives us a way of accounting for both, and while this aggregate is in some ways still flawed, it gives us a more accurate measure of a city then only thinking about one factor."
   ]
  },
  {
   "cell_type": "code",
   "execution_count": 23,
   "id": "20b4a0d9",
   "metadata": {},
   "outputs": [
    {
     "name": "stdout",
     "output_type": "stream",
     "text": [
      "                  city     stars  review_count  power_score\n",
      "865       Philadelphia  3.623035        936240    3543234.0\n",
      "757        New Orleans  3.822677        621361    2448289.0\n",
      "744          Nashville  3.637785        441053    1685754.0\n",
      "1156             Tampa  3.583315        439506    1654529.5\n",
      "1209            Tucson  3.594919        387254    1435418.0\n",
      "511       Indianapolis  3.579708        349228    1338450.5\n",
      "925               Reno  3.761584        334610    1257870.0\n",
      "1006     Santa Barbara  4.051449        262853    1053151.0\n",
      "988        Saint Louis  3.594054        244360     932034.0\n",
      "91               Boise  3.714164        101893     386049.5\n",
      "318           Edmonton  3.439058         98204     350848.0\n",
      "202         Clearwater  3.601306         84190     316413.0\n",
      "993   Saint Petersburg  3.714372         76219     295720.0\n",
      "1070            Sparks  3.647475         69567     252275.0\n",
      "1106         St. Louis  3.665339         61270     231721.5\n",
      "678           Metairie  3.493305         61970     223945.5\n",
      "1112    St. Petersburg  3.800000         52620     204522.5\n",
      "384           Franklin  3.605375         54785     200813.0\n",
      "421             Goleta  3.749373         44126     166161.5\n",
      "1329        Wilmington  3.423928         43005     152124.5\n"
     ]
    },
    {
     "name": "stderr",
     "output_type": "stream",
     "text": [
      "/var/folders/xh/0wd_6y4x2_bgrmj7xkg_jvqh0000gn/T/ipykernel_3918/1931050738.py:1: FutureWarning: The default of observed=False is deprecated and will be changed to True in a future version of pandas. Pass observed=False to retain current behavior or observed=True to adopt the future default and silence this warning.\n",
      "  yelp_by_city = yelp_data.groupby('city').agg({\n"
     ]
    }
   ],
   "source": [
    "yelp_by_city = yelp_data.groupby('city').agg({\n",
    "    'stars': 'mean',\n",
    "    'review_count': 'sum',\n",
    "    'power_score': 'sum'}).reset_index()\n",
    "\n",
    "\n",
    "yelp_by_city = yelp_by_city.sort_values(by='power_score', ascending=False)\n",
    "\n",
    "print(yelp_by_city.head(20))"
   ]
  },
  {
   "cell_type": "code",
   "execution_count": 24,
   "id": "7742f04b",
   "metadata": {},
   "outputs": [],
   "source": [
    "## Data Visualization"
   ]
  },
  {
   "cell_type": "markdown",
   "id": "3d9ff9a4",
   "metadata": {},
   "source": [
    "Finally we'll visualize the data of our top 10 ranked cities in order to see how they compare across stars, review  count, and power score. This will help us recognize if our 'power_score' rankings are an accurate method of evaluating cities."
   ]
  },
  {
   "cell_type": "code",
   "execution_count": 25,
   "id": "e00edb9c",
   "metadata": {},
   "outputs": [
    {
     "data": {
      "image/png": "[encoded data removed]",
      "text/plain": [
       "<Figure size 1200x800 with 1 Axes>"
      ]
     },
     "metadata": {},
     "output_type": "display_data"
    }
   ],
   "source": [
    "top_10_cities = yelp_by_city.nlargest(10, 'power_score')\n",
    "\n",
    "# Plotting\n",
    "fig, ax = plt.subplots(figsize=(12, 8))\n",
    "\n",
    "# Set bar width\n",
    "bar_width = 0.5\n",
    "\n",
    "# Set positions of bars on x-axis\n",
    "r = np.arange(len(top_10_cities))\n",
    "\n",
    "# Create bars for power_score\n",
    "bars = ax.bar(r, top_10_cities['power_score'], color='r', width=bar_width, edgecolor='grey', label='Power Score')\n",
    "\n",
    "# Add labels\n",
    "ax.set_xlabel('City', fontweight='bold')\n",
    "ax.set_xticks(r)\n",
    "ax.set_xticklabels(top_10_cities['city'], rotation=45)\n",
    "ax.set_ylabel('Power Score', fontweight='bold')\n",
    "ax.set_title('Top 10 Cities by Power Score')\n",
    "\n",
    "# Set y-ticks and labels for better scale clarity\n",
    "y_ticks = np.arange(0, 4000000, 1000000)  # Set y-ticks at every 10 units up to the maximum power score\n",
    "ax.set_yticks(y_ticks)\n",
    "ax.set_yticklabels([str(int(tick)) for tick in y_ticks])  # Convert y-tick labels to integers\n",
    "\n",
    "ax.legend()\n",
    "\n",
    "plt.tight_layout()\n",
    "plt.show()"
   ]
  },
  {
   "cell_type": "markdown",
   "id": "0bdd4d1c",
   "metadata": {},
   "source": [
    "## Conclusion"
   ]
  },
  {
   "cell_type": "markdown",
   "id": "4f46c8ea",
   "metadata": {},
   "source": [
    "As we can see, Philadelphia and New Orleans are clearly the best cities based on Yelp reviews, but our graph also paints a clearer picture of how much higher in power score these two cities are. As a reminder our \"power score\" ranking is the product of all business' avg stars and their review counts indivually, we've then grouped business' by state and summed up all of the scores to get our final score per city. It's important to note that these scores are not the perfect way to rank cities, for example one dimension of the data i was not able to solve for was the type of business' scores in which we accounted for. This was due to yelp's \"category\" column in my original data set containing 13,000 unique values, this amount of categories made it nearly useless in practice which is why it was not used in the final version of this notebook."
   ]
  }
 ],
 "metadata": {
  "kernelspec": {
   "display_name": "Python 3 (ipykernel)",
   "language": "python",
   "name": "python3"
  },
  "language_info": {
   "codemirror_mode": {
    "name": "ipython",
    "version": 3
   },
   "file_extension": ".py",
   "mimetype": "text/x-python",
   "name": "python",
   "nbconvert_exporter": "python",
   "pygments_lexer": "ipython3",
   "version": "3.11.5"
  }
 },
 "nbformat": 4,
 "nbformat_minor": 5
}
